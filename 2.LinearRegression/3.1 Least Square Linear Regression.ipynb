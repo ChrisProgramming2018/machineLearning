{
 "cells": [
  {
   "cell_type": "markdown",
   "metadata": {},
   "source": [
    "## Least-Square Linear Regression\n",
    "\n",
    "You have heard about (linear) classification methods and least-squares linear regression in the lecture. \n",
    "\n",
    "__Task:__ Describe the difference between regression and classification in one sentence. \n",
    "\n",
    "In the next part, we want to implement a least-squares linear regression. This means that given a set of points $\\{\\mathbf{x_i},y_i\\}$, $i = 1..N$, we want to find that line (or hyperplane in higher dimensions) which minimizes the least-square error. The least-squares error measures the quadratic distance from the predicted points by the linear model to the actual values.\n",
    "\n",
    "The general formula of the least-squares regression is $\\mathbf{y} = \\mathbf X \\boldsymbol w+ \\mathbf{\\epsilon}$ where $\\epsilon$ is a vector with dimensionality $\\mathbb{R}^N$ containing the normally-distributed noise terms $N(0,\\sigma^2)$, $\\mathbf{y}$ is the vector of labels and $\\mathbf{X}$ is the matrix of data points with dimensionality $\\mathbb{R}^{NxD}$. We are interested in estimating the coefficients $\\hat{\\boldsymbol w}$ of the true coefficients $\\boldsymbol w$. You saw in the lecture that the estimates are given by:\n",
    "\n",
    "\\begin{equation}\n",
    "\\hat{\\boldsymbol w} = (\\mathbf{X}^{\\rm T}\\mathbf{X})^{-1} \\mathbf{X}^{\\rm T}\\mathbf{y}\n",
    "\\end{equation}\n",
    "\n",
    "where $\\mathbf{X}$ is the matrix of regressor data (the first column is all 1’s for the intercept), and $\\mathbf{y}$ is the vector of the dependent variable data. \n",
    "\n",
    "__Tasks:__ \n",
    "1.  Look at how the following data is generated. What are the real parameters of w?\n",
    "2.  We want to implement a least-square linear regression now. Follow the following steps:\n",
    "    1. ) Bring the data in the correct shape as requested by the formula above.    \n",
    "    2. ) Calculate the estimates of the coefficients w.\n",
    "    3. ) Add the resulting line to the given scatter plot of the data.\n",
    "    4. ) Compute the mean squared-error of the residuals, i.e. $ \\frac{1}{N}\\sum_{i=1}^N \\|y(x_i) - y_i \\|^2$.\n",
    "    5. ) Compare your results to the numpy built-in function np.linalg.lstsq(...)\n",
    "3. Plot the residuals (e.g. using seaborn function residplot (you will need to install statsmodel with '_sudo pip3 install statsmodels_' ) and check the conditions of the linear regression."
   ]
  },
  {
   "cell_type": "code",
   "execution_count": 7,
   "metadata": {
    "scrolled": true
   },
   "outputs": [
    {
     "data": {
      "image/png": "[encoded data removed]",
      "text/plain": [
       "<Figure size 432x288 with 1 Axes>"
      ]
     },
     "metadata": {
      "needs_background": "light"
     },
     "output_type": "display_data"
    }
   ],
   "source": [
    "%matplotlib inline\n",
    "import numpy as np\n",
    "import matplotlib.pyplot as plt\n",
    "import seaborn as sns\n",
    "## Generate data\n",
    "N_samples = 100\n",
    "white_noise_stddev = 2\n",
    "X = np.random.randn(N_samples,1)\n",
    "eps = np.random.randn(N_samples,1)*white_noise_stddev\n",
    "w = [1.3]\n",
    "y = 0.5+w*X+eps\n",
    "\n",
    "## Make Plot of the data\n",
    "plt.scatter(X, y);\n",
    "plt.grid()"
   ]
  },
  {
   "cell_type": "code",
   "execution_count": 8,
   "metadata": {},
   "outputs": [
    {
     "data": {
      "text/plain": [
       "((100, 1), array([[ 0.808473  ],\n",
       "        [ 0.57684411],\n",
       "        [-0.19478179],\n",
       "        [-0.73769397]]))"
      ]
     },
     "execution_count": 8,
     "metadata": {},
     "output_type": "execute_result"
    }
   ],
   "source": [
    "X.shape, X[:4]"
   ]
  },
  {
   "cell_type": "code",
   "execution_count": 19,
   "metadata": {},
   "outputs": [],
   "source": [
    " ## B) Use the equation from above (X'X)^(-1)X'Y to calculate the estimate of the least-square coefficient:\n",
    "# Hints:np.dot() computes the matrix-matrix product\n",
    "#       np.linalg.inv() computes the matrix inverse\n",
    "#       X.T is the transpose of X"
   ]
  },
  {
   "cell_type": "code",
   "execution_count": 9,
   "metadata": {},
   "outputs": [
    {
     "name": "stdout",
     "output_type": "stream",
     "text": [
      "(100, 2)\n",
      "(100, 1)\n"
     ]
    }
   ],
   "source": [
    "## 2. A) Bring the data in the correct shape\n",
    "nrow = len(X)\n",
    "X_stacked= np.column_stack((np.ones(nrow),X))\n",
    " \n",
    "## Verify that the X and Y arrays have the same number of rows so that the matrix multiplication works\n",
    "print(X_stacked.shape)\n",
    "print(y.shape)"
   ]
  },
  {
   "cell_type": "code",
   "execution_count": 10,
   "metadata": {},
   "outputs": [
    {
     "data": {
      "text/plain": [
       "array([[ 1.        ,  0.808473  ],\n",
       "       [ 1.        ,  0.57684411],\n",
       "       [ 1.        , -0.19478179],\n",
       "       [ 1.        , -0.73769397]])"
      ]
     },
     "execution_count": 10,
     "metadata": {},
     "output_type": "execute_result"
    }
   ],
   "source": [
    "X_stacked[:4]"
   ]
  },
  {
   "cell_type": "code",
   "execution_count": 11,
   "metadata": {},
   "outputs": [
    {
     "data": {
      "text/plain": [
       "array([[ 1.00000936e-02, -3.27301293e-05],\n",
       "       [-3.27301293e-05,  1.14429636e-02]])"
      ]
     },
     "execution_count": 11,
     "metadata": {},
     "output_type": "execute_result"
    }
   ],
   "source": [
    "np.linalg.inv(np.dot(X_stacked.T,X_stacked))"
   ]
  },
  {
   "cell_type": "code",
   "execution_count": 12,
   "metadata": {},
   "outputs": [
    {
     "data": {
      "text/plain": [
       "array([[ 73.97167861],\n",
       "       [105.38642233]])"
      ]
     },
     "execution_count": 12,
     "metadata": {},
     "output_type": "execute_result"
    }
   ],
   "source": [
    "np.dot(X_stacked.T, y)"
   ]
  },
  {
   "cell_type": "code",
   "execution_count": 13,
   "metadata": {},
   "outputs": [],
   "source": [
    "part1 = np.linalg.inv(np.dot(X_stacked.T,X_stacked))\n",
    "part2 = np.dot(X_stacked.T, y)"
   ]
  },
  {
   "cell_type": "code",
   "execution_count": 14,
   "metadata": {},
   "outputs": [
    {
     "data": {
      "text/plain": [
       "array([[0.7362744 ],\n",
       "       [1.20351189]])"
      ]
     },
     "execution_count": 14,
     "metadata": {},
     "output_type": "execute_result"
    }
   ],
   "source": [
    "w_hat = np.dot(part1, part2)\n",
    "w_hat"
   ]
  },
  {
   "cell_type": "code",
   "execution_count": 31,
   "metadata": {},
   "outputs": [],
   "source": [
    "def linearRegression(X, y):\n",
    "    \"\"\"  Computes the weights\n",
    "    \n",
    "    \n",
    "    \"\"\"\n",
    "    nrow = len(X)\n",
    "    X_stacked= np.column_stack((np.ones(nrow),X))\n",
    "    part1 = np.linalg.inv(np.dot(X_stacked.T,X_stacked))\n",
    "    part2 = np.dot(X_stacked.T, y)\n",
    "    w_hat = np.dot(part1, part2)\n",
    "    return w_hat"
   ]
  },
  {
   "cell_type": "code",
   "execution_count": 15,
   "metadata": {},
   "outputs": [
    {
     "name": "stdout",
     "output_type": "stream",
     "text": [
      "The estimator intercept is 0.74 and the estimated slope is 1.20.\n"
     ]
    },
    {
     "data": {
      "image/png": "[encoded data removed]",
      "text/plain": [
       "<Figure size 432x288 with 1 Axes>"
      ]
     },
     "metadata": {
      "needs_background": "light"
     },
     "output_type": "display_data"
    }
   ],
   "source": [
    "print(\"The estimator intercept is %.2f and the estimated slope is %.2f.\" % (w_hat[0],w_hat[1]))\n",
    "\n",
    "## C) Plot the resulting line\n",
    "plt.figure()\n",
    "plt.plot([-5,5],np.dot([[1, -5], [1, 5]],w_hat),c='red',label='Linear Regression Fitted');\n",
    "plt.plot([-5,5],np.dot([[1, -5], [1, 5]],[0.5,1.3]),c='orange',label='True Line');\n",
    "plt.legend()\n",
    "plt.scatter(X, y);\n",
    "plt.grid()"
   ]
  },
  {
   "cell_type": "code",
   "execution_count": 16,
   "metadata": {},
   "outputs": [
    {
     "data": {
      "text/plain": [
       "(100, 1)"
      ]
     },
     "execution_count": 16,
     "metadata": {},
     "output_type": "execute_result"
    }
   ],
   "source": [
    "## D) Compute the mean square-error (residual)\n",
    "# (y - y_hat)**2\n",
    "y_hat = np.dot(X_stacked,w_hat)\n",
    "msr = np.square(y-y_hat)\n",
    "msr.shape  # error for each data point "
   ]
  },
  {
   "cell_type": "code",
   "execution_count": 17,
   "metadata": {},
   "outputs": [
    {
     "name": "stdout",
     "output_type": "stream",
     "text": [
      "MSE is: 3.15\n"
     ]
    }
   ],
   "source": [
    "print(\"MSE is: %.2f\" % ((sum(msr)[0])/nrow))"
   ]
  },
  {
   "cell_type": "code",
   "execution_count": 18,
   "metadata": {},
   "outputs": [
    {
     "name": "stdout",
     "output_type": "stream",
     "text": [
      "MSE from built-in function is: 3.15 \n"
     ]
    },
    {
     "name": "stderr",
     "output_type": "stream",
     "text": [
      "/home/architect/anaconda3/lib/python3.5/site-packages/ipykernel_launcher.py:2: FutureWarning: `rcond` parameter will change to the default of machine precision times ``max(M, N)`` where M and N are the input matrix dimensions.\n",
      "To use the future default and silence this warning we advise to pass `rcond=None`, to keep using the old, explicitly pass `rcond=-1`.\n",
      "  \n"
     ]
    }
   ],
   "source": [
    "## E) Compare to built-in function\n",
    "beta_builtin,residual,_,_ = np.linalg.lstsq(X_stacked, y)\n",
    "print(\"MSE from built-in function is: %.2f \" % (residual[0]/nrow))"
   ]
  },
  {
   "cell_type": "code",
   "execution_count": 24,
   "metadata": {},
   "outputs": [
    {
     "name": "stdout",
     "output_type": "stream",
     "text": [
      "Collecting statsmodels\n",
      "\u001b[?25l  Downloading https://files.pythonhosted.org/packages/85/26/f2f515443528e0939945b877e0f27f7c6faf2be4da45e2aaf172da82d2d3/statsmodels-0.11.1-cp35-cp35m-manylinux1_x86_64.whl (8.6MB)\n",
      "\u001b[K    100% |████████████████████████████████| 8.6MB 2.6MB/s ta 0:00:01\n",
      "\u001b[?25hRequirement already satisfied: numpy>=1.14 in /home/architect/anaconda3/lib/python3.5/site-packages (from statsmodels) (1.17.4)\n",
      "Requirement already satisfied: pandas>=0.21 in /home/architect/anaconda3/lib/python3.5/site-packages (from statsmodels) (0.25.3)\n",
      "Collecting patsy>=0.5 (from statsmodels)\n",
      "\u001b[?25l  Downloading https://files.pythonhosted.org/packages/ea/0c/5f61f1a3d4385d6bf83b83ea495068857ff8dfb89e74824c6e9eb63286d8/patsy-0.5.1-py2.py3-none-any.whl (231kB)\n",
      "\u001b[K    100% |████████████████████████████████| 235kB 3.4MB/s ta 0:00:01\n",
      "\u001b[?25hRequirement already satisfied: scipy>=1.0 in /home/architect/.local/lib/python3.5/site-packages (from statsmodels) (1.2.0)\n",
      "Requirement already satisfied: python-dateutil>=2.6.1 in /home/architect/anaconda3/lib/python3.5/site-packages (from pandas>=0.21->statsmodels) (2.7.3)\n",
      "Requirement already satisfied: pytz>=2017.2 in /home/architect/anaconda3/lib/python3.5/site-packages (from pandas>=0.21->statsmodels) (2019.1)\n",
      "Requirement already satisfied: six in /home/architect/anaconda3/lib/python3.5/site-packages (from patsy>=0.5->statsmodels) (1.11.0)\n",
      "Installing collected packages: patsy, statsmodels\n",
      "Successfully installed patsy-0.5.1 statsmodels-0.11.1\n",
      "\u001b[33mYou are using pip version 10.0.1, however version 20.2b1 is available.\n",
      "You should consider upgrading via the 'pip install --upgrade pip' command.\u001b[0m\n"
     ]
    }
   ],
   "source": [
    "!pip install statsmodels "
   ]
  },
  {
   "cell_type": "code",
   "execution_count": 25,
   "metadata": {},
   "outputs": [],
   "source": [
    "import seaborn as sns"
   ]
  },
  {
   "cell_type": "code",
   "execution_count": 28,
   "metadata": {},
   "outputs": [
    {
     "data": {
      "image/png": "[encoded data removed]",
      "text/plain": [
       "<Figure size 432x288 with 1 Axes>"
      ]
     },
     "metadata": {
      "needs_background": "light"
     },
     "output_type": "display_data"
    }
   ],
   "source": [
    "## 3) Plot the residuals\n",
    "plt.figure()\n",
    "sns.residplot(np.squeeze(X), np.squeeze(y), lowess=True,  color=\"b\")\n",
    "plt.xlabel('X',fontsize = 14)\n",
    "plt.ylabel('Residual Value', fontsize = 14)\n",
    "plt.title('Residuals with locally smoothed fit', fontsize = 14)\n",
    "plt.show()"
   ]
  },
  {
   "cell_type": "markdown",
   "metadata": {},
   "source": [
    "## Mathematical concepts of linear regression\n",
    "\n",
    "We want to look more closely at the mathematical backgrounds of the least-square linear regression. One step before obtaining the final solution $\\hat{\\boldsymbol w} = (\\mathbf{X}^{\\rm T}\\mathbf{X})^{-1} \\mathbf{X}^{\\rm T}\\mathbf{y}$, one has the so-called normal equations: \\begin{equation}\n",
    "(\\mathbf{X}^{\\rm T}\\mathbf{X}) \\hat{\\boldsymbol w} = \\mathbf{X}^{\\rm T}\\mathbf{y}\n",
    "\\end{equation}\n",
    "\n",
    "### Q3.1.1 Which condition on X has to be satisfied such that $(\\mathbf{X}^{\\rm T}\\mathbf{X})$ can be inverted?\n",
    "\n",
    "### Q3.1.2 Name scenarios in which this condition is violated.\n",
    "\n",
    "\n",
    "In case, $(\\mathbf{X}^{\\rm T}\\mathbf{X})$ is not invertible, one applies a so-called Moore-Penrose pseudoinverse. This is a generalization of the common matrix inversion to singular or non-quadratic matrices.\n",
    "\n",
    "__Task__: Read about the pseudoinverse and list three properties of the pseudoinverse."
   ]
  },
  {
   "cell_type": "code",
   "execution_count": null,
   "metadata": {},
   "outputs": [],
   "source": [
    "Q3.1.1 "
   ]
  },
  {
   "cell_type": "markdown",
   "metadata": {},
   "source": [
    "## The role of outliers in least-square linear regression \n",
    "\n",
    "Sometimes the data is not as clean as in the above case. In the following data set, we added one additional point [45,12] to the previous data set. We want to investigate how this point influences the estimates of $\\mathbf w$ and find a strategy to avoid any occurring problems.\n",
    "\n",
    "__Tasks:__\n",
    "1. Apply a least square linear estimator to the new data set and visualize the results\n",
    "2. Compare the estimator for w with the one from before.\n",
    "3. Plot the residuals, i.e. the difference between the predicted variable $y(x_i)$ and real variable $y_i$.\n",
    "4. In the lecture you have heard several conditions on the residual which should be satisfied for the linear regression. Check them in this case! \n",
    "\n",
    "__Hint__: You should re-run the simulation a few times to answer question number 4)."
   ]
  },
  {
   "cell_type": "code",
   "execution_count": 29,
   "metadata": {
    "scrolled": false
   },
   "outputs": [],
   "source": [
    "## Data Generation as before plus one outlier [45,12]\n",
    "n = 100\n",
    "white_noise_sd = 2\n",
    "X = np.random.randn(n,1)\n",
    "eps = np.random.randn(n,1)*white_noise_sd\n",
    "w = [1.3]\n",
    "y = 0.5+w*X+eps\n",
    "X = np.append(X,45)\n",
    "y = np.append(y,12)\n",
    "\n",
    "# 1) Apply a least square linear estimator to the new data set\n",
    "\n",
    "# 2) Compare estimator for w and visualize the results\n",
    "\n",
    "# 3) Plot the residuals\n",
    "# You can use the seaborn plot residplot (statsmodels package is necessary. Get it via: \"\"sudo pip3 install statsmodels\"\")"
   ]
  },
  {
   "cell_type": "code",
   "execution_count": 32,
   "metadata": {},
   "outputs": [
    {
     "name": "stderr",
     "output_type": "stream",
     "text": [
      "No handles with labels found to put in legend.\n"
     ]
    },
    {
     "data": {
      "image/png": "[encoded data removed]",
      "text/plain": [
       "<Figure size 432x288 with 1 Axes>"
      ]
     },
     "metadata": {
      "needs_background": "light"
     },
     "output_type": "display_data"
    }
   ],
   "source": [
    "plt.legend()\n",
    "plt.scatter(X, y);\n",
    "plt.grid()"
   ]
  },
  {
   "cell_type": "code",
   "execution_count": 40,
   "metadata": {},
   "outputs": [
    {
     "data": {
      "text/plain": [
       "array([-1.25470693, -0.90228624, -0.32067227,  1.95555867, -1.17641311,\n",
       "       -0.07063298,  0.21590382, -0.7918733 , -0.17234314, -0.13432493,\n",
       "       -0.24254791,  1.73847364, -0.83863005,  1.32026776,  0.32603544,\n",
       "        0.25616587,  0.38673557,  0.2610878 , -0.60874026,  1.11983604,\n",
       "       -0.56622503, -0.18442157,  0.86602559,  0.45487954,  0.47268058,\n",
       "       -0.58760195, -0.51620568,  0.57666677, -1.94483953, -0.38236049,\n",
       "       -0.9954694 ,  0.82308757, -0.80010186,  0.67836465, -0.97278965,\n",
       "        0.44571858,  0.23106098, -0.72431079,  1.3358753 ,  0.86496594,\n",
       "        0.33204872,  0.17334369, -0.09821184,  0.54781369,  0.65177938,\n",
       "       -0.36274124, -0.02022347, -0.27778569, -0.52465801, -1.12173532,\n",
       "       -0.30903034,  0.2957412 ,  1.41853924,  2.85590927,  0.48377729,\n",
       "        1.07485338, -0.17714241, -0.86049625,  0.02376108, -2.75505029,\n",
       "       -1.53504854, -1.27434415,  0.72261157,  0.5896947 , -1.30854833,\n",
       "       -0.35424634,  0.02735628,  1.07625463,  0.3562041 ,  0.82161817,\n",
       "        0.5289527 , -0.23464199,  0.01560008, -0.18903478,  0.02202413,\n",
       "        0.76637792, -0.19186945,  0.22557248,  0.43034826,  0.74151446,\n",
       "        0.82750568,  0.47146134, -0.86612844,  0.04204727, -0.9095219 ,\n",
       "        2.86205052, -0.42294173, -0.31617784,  0.59091829, -0.96444809,\n",
       "       -0.07882663,  2.25570167,  0.25506093, -1.58468328,  1.29015805,\n",
       "       -0.1192266 , -1.14030517, -0.6775925 , -1.45923228,  1.05198884])"
      ]
     },
     "execution_count": 40,
     "metadata": {},
     "output_type": "execute_result"
    }
   ],
   "source": [
    "X[:-1]"
   ]
  },
  {
   "cell_type": "code",
   "execution_count": 39,
   "metadata": {},
   "outputs": [
    {
     "data": {
      "text/plain": [
       "array([-1.25470693e+00, -9.02286239e-01, -3.20672268e-01,  1.95555867e+00,\n",
       "       -1.17641311e+00, -7.06329806e-02,  2.15903823e-01, -7.91873303e-01,\n",
       "       -1.72343137e-01, -1.34324934e-01, -2.42547911e-01,  1.73847364e+00,\n",
       "       -8.38630047e-01,  1.32026776e+00,  3.26035436e-01,  2.56165867e-01,\n",
       "        3.86735574e-01,  2.61087802e-01, -6.08740259e-01,  1.11983604e+00,\n",
       "       -5.66225025e-01, -1.84421573e-01,  8.66025594e-01,  4.54879538e-01,\n",
       "        4.72680582e-01, -5.87601946e-01, -5.16205681e-01,  5.76666770e-01,\n",
       "       -1.94483953e+00, -3.82360488e-01, -9.95469395e-01,  8.23087571e-01,\n",
       "       -8.00101864e-01,  6.78364654e-01, -9.72789649e-01,  4.45718579e-01,\n",
       "        2.31060981e-01, -7.24310790e-01,  1.33587530e+00,  8.64965936e-01,\n",
       "        3.32048722e-01,  1.73343692e-01, -9.82118398e-02,  5.47813687e-01,\n",
       "        6.51779375e-01, -3.62741240e-01, -2.02234720e-02, -2.77785694e-01,\n",
       "       -5.24658008e-01, -1.12173532e+00, -3.09030341e-01,  2.95741200e-01,\n",
       "        1.41853924e+00,  2.85590927e+00,  4.83777290e-01,  1.07485338e+00,\n",
       "       -1.77142410e-01, -8.60496248e-01,  2.37610769e-02, -2.75505029e+00,\n",
       "       -1.53504854e+00, -1.27434415e+00,  7.22611574e-01,  5.89694703e-01,\n",
       "       -1.30854833e+00, -3.54246338e-01,  2.73562811e-02,  1.07625463e+00,\n",
       "        3.56204097e-01,  8.21618172e-01,  5.28952696e-01, -2.34641991e-01,\n",
       "        1.56000839e-02, -1.89034776e-01,  2.20241350e-02,  7.66377924e-01,\n",
       "       -1.91869447e-01,  2.25572478e-01,  4.30348261e-01,  7.41514460e-01,\n",
       "        8.27505676e-01,  4.71461339e-01, -8.66128436e-01,  4.20472703e-02,\n",
       "       -9.09521897e-01,  2.86205052e+00, -4.22941730e-01, -3.16177843e-01,\n",
       "        5.90918295e-01, -9.64448088e-01, -7.88266301e-02,  2.25570167e+00,\n",
       "        2.55060928e-01, -1.58468328e+00,  1.29015805e+00, -1.19226603e-01,\n",
       "       -1.14030517e+00, -6.77592502e-01, -1.45923228e+00,  1.05198884e+00,\n",
       "        4.50000000e+01])"
      ]
     },
     "execution_count": 39,
     "metadata": {},
     "output_type": "execute_result"
    }
   ],
   "source": [
    "X"
   ]
  },
  {
   "cell_type": "code",
   "execution_count": 35,
   "metadata": {},
   "outputs": [
    {
     "data": {
      "image/png": "[encoded data removed]",
      "text/plain": [
       "<Figure size 432x288 with 1 Axes>"
      ]
     },
     "metadata": {
      "needs_background": "light"
     },
     "output_type": "display_data"
    }
   ],
   "source": [
    "# 1) Apply a least square linear estimator to the new data set\n",
    "w_hat = linearRegression(X, y)\n",
    "plt.figure()\n",
    "plt.plot([-15,50],np.dot([[1, -5], [1, 5]],w_hat),c='red',label='Linear Regression Fitted');\n",
    "plt.legend()\n",
    "plt.scatter(X, y);\n",
    "plt.grid()"
   ]
  },
  {
   "cell_type": "code",
   "execution_count": 42,
   "metadata": {},
   "outputs": [
    {
     "data": {
      "image/png": "[encoded data removed]",
      "text/plain": [
       "<Figure size 432x288 with 1 Axes>"
      ]
     },
     "metadata": {
      "needs_background": "light"
     },
     "output_type": "display_data"
    }
   ],
   "source": [
    "# 1) Apply a least square linear estimator to the new data set\n",
    "X_less = X[:-1]\n",
    "y_less = y[:-1]\n",
    "w_hat = linearRegression(X_less, y_less)\n",
    "plt.figure()\n",
    "plt.plot([-15,50],np.dot([[1, -5], [1, 5]],w_hat),c='red',label='Linear Regression Fitted');\n",
    "plt.legend()\n",
    "plt.scatter(X_less, y_less);\n",
    "plt.grid()"
   ]
  },
  {
   "cell_type": "code",
   "execution_count": null,
   "metadata": {},
   "outputs": [],
   "source": []
  },
  {
   "cell_type": "code",
   "execution_count": null,
   "metadata": {},
   "outputs": [],
   "source": []
  },
  {
   "cell_type": "code",
   "execution_count": 47,
   "metadata": {},
   "outputs": [
    {
     "data": {
      "text/plain": [
       "array([3.50855151e-03, 7.86116027e-01, 2.12249016e+01, 1.65043251e+01,\n",
       "       1.98862506e-01, 1.32051356e+00, 1.71656041e+01, 8.53657553e-01,\n",
       "       2.24038797e+01, 1.10297932e+00, 5.27545285e-01, 2.61501938e+00,\n",
       "       7.64153630e+00, 2.10685685e+00, 2.54186838e+00, 1.51834914e-01,\n",
       "       1.98801630e+00, 3.91477162e-01, 1.67827845e+00, 1.97615887e+00,\n",
       "       3.76726949e+01, 1.77139991e+00, 4.78472903e-01, 9.46070928e+00,\n",
       "       1.75513410e+00, 5.82028475e+00, 8.43892354e+00, 9.92395690e+00,\n",
       "       1.73243287e+00, 3.39123454e+00, 5.74892329e+00, 4.44605146e+00,\n",
       "       7.40124771e-01, 4.91264662e+00, 2.18494335e+01, 2.03327676e+00,\n",
       "       1.01553434e+01, 9.17707929e-01, 9.66255282e+00, 2.12058349e-01,\n",
       "       1.07777050e-02, 1.84098710e-01, 2.33422972e-01, 1.91727030e+00,\n",
       "       1.89221131e-01, 5.51211668e+00, 1.30841470e+00, 1.03196766e-03,\n",
       "       5.72498862e+00, 2.12681469e+00, 6.17164244e+00, 5.28392014e-02,\n",
       "       5.72562922e-03, 4.39102095e+00, 1.21741453e+01, 5.94012096e+00,\n",
       "       2.51842328e+01, 4.08265640e+00, 2.74094374e+00, 1.24156560e+01,\n",
       "       4.43965995e+00, 3.46950320e-01, 2.75996959e-01, 1.39919333e+00,\n",
       "       1.75641557e+01, 2.28249902e-02, 3.89855700e+00, 2.55480898e+00,\n",
       "       7.23660388e+00, 2.51521123e+00, 9.25790586e-02, 1.53305729e+00,\n",
       "       2.16413131e+00, 1.28999975e+01, 6.06902597e-01, 4.59910226e-01,\n",
       "       6.74624862e+00, 1.78003698e-01, 1.45598020e+00, 1.78296423e+00,\n",
       "       5.35044068e+00, 2.61031853e+00, 3.78452264e+00, 5.07786237e+00,\n",
       "       8.14963894e-01, 7.36372763e+00, 1.14797735e-01, 8.79169471e+00,\n",
       "       1.79036399e+00, 1.51999029e+01, 6.86590152e+00, 3.94468298e+00,\n",
       "       2.40947609e-02, 1.65186625e+01, 2.52285205e+01, 1.31246377e+00,\n",
       "       2.30601777e+01, 5.63637499e-02, 1.59095088e+01, 4.69679869e+00,\n",
       "       5.70883795e+00])"
      ]
     },
     "execution_count": 47,
     "metadata": {},
     "output_type": "execute_result"
    }
   ],
   "source": [
    "res_error"
   ]
  },
  {
   "cell_type": "code",
   "execution_count": 48,
   "metadata": {},
   "outputs": [
    {
     "data": {
      "text/plain": [
       "(array([56., 22.,  7.,  3.,  6.,  3.,  3.,  0.,  0.,  1.]),\n",
       " array([1.03196766e-03, 3.76819826e+00, 7.53536455e+00, 1.13025308e+01,\n",
       "        1.50696971e+01, 1.88368634e+01, 2.26040297e+01, 2.63711960e+01,\n",
       "        3.01383623e+01, 3.39055286e+01, 3.76726949e+01]),\n",
       " <a list of 10 Patch objects>)"
      ]
     },
     "execution_count": 48,
     "metadata": {},
     "output_type": "execute_result"
    },
    {
     "data": {
      "image/png": "[encoded data removed]",
      "text/plain": [
       "<Figure size 432x288 with 1 Axes>"
      ]
     },
     "metadata": {
      "needs_background": "light"
     },
     "output_type": "display_data"
    }
   ],
   "source": []
  },
  {
   "cell_type": "code",
   "execution_count": 38,
   "metadata": {},
   "outputs": [
    {
     "name": "stderr",
     "output_type": "stream",
     "text": [
      "/home/architect/anaconda3/lib/python3.5/site-packages/ipykernel_launcher.py:3: FutureWarning: `rcond` parameter will change to the default of machine precision times ``max(M, N)`` where M and N are the input matrix dimensions.\n",
      "To use the future default and silence this warning we advise to pass `rcond=None`, to keep using the old, explicitly pass `rcond=-1`.\n",
      "  This is separate from the ipykernel package so we can avoid doing imports until\n"
     ]
    },
    {
     "data": {
      "image/png": "[encoded data removed]",
      "text/plain": [
       "<Figure size 432x288 with 1 Axes>"
      ]
     },
     "metadata": {
      "needs_background": "light"
     },
     "output_type": "display_data"
    }
   ],
   "source": [
    "nrow = len(X)\n",
    "X_stacked= np.column_stack((np.ones(nrow),X))\n",
    "w_est_2,resid_2,rank,sigma = np.linalg.lstsq(X_stacked, y)\n",
    "res_error=(np.dot(X_stacked,w_est_2)-y)*(np.dot(X_stacked,w_est_2)-y)\n",
    "plt.figure()\n",
    "plt.plot([-15,50],np.dot([[1, -5], [1, 5]],w_est_2),c='red',label='Linear Regression Fitted');\n",
    "plt.legend()\n",
    "plt.scatter(X, y);\n",
    "plt.grid()"
   ]
  },
  {
   "cell_type": "code",
   "execution_count": 37,
   "metadata": {},
   "outputs": [
    {
     "data": {
      "image/png": "[encoded data removed]",
      "text/plain": [
       "<Figure size 432x288 with 1 Axes>"
      ]
     },
     "metadata": {
      "needs_background": "light"
     },
     "output_type": "display_data"
    }
   ],
   "source": [
    "plt.figure()\n",
    "sns.residplot(X, y, lowess=True, color=\"g\")\n",
    "plt.xlabel('X',fontsize = 14)\n",
    "plt.ylabel('Residual Value', fontsize = 14)\n",
    "plt.title('Residuals with locally smoothed fit', fontsize = 14)\n",
    "plt.show()"
   ]
  },
  {
   "cell_type": "code",
   "execution_count": null,
   "metadata": {},
   "outputs": [],
   "source": []
  },
  {
   "cell_type": "markdown",
   "metadata": {},
   "source": [
    "### Q3.1.3 What do you conclude from this example regarding the estimated weight vector and residuals? \n",
    "\n",
    "### Q3.1.4 Think of possible strategies to avoid this problem."
   ]
  },
  {
   "cell_type": "markdown",
   "metadata": {},
   "source": [
    "Since the 2 weights are different we can see that the method is not very robust to outliers"
   ]
  },
  {
   "cell_type": "markdown",
   "metadata": {},
   "source": [
    "Q3.1.4\n",
    "Compute first the function use it to compute the residuals\n",
    "Assumption that data points with a value higher then a threshold are considered as outliers.\n",
    "Remove them and compute it new "
   ]
  },
  {
   "cell_type": "code",
   "execution_count": 49,
   "metadata": {},
   "outputs": [
    {
     "data": {
      "text/plain": [
       "(array([56., 22.,  7.,  3.,  6.,  3.,  3.,  0.,  0.,  1.]),\n",
       " array([1.03196766e-03, 3.76819826e+00, 7.53536455e+00, 1.13025308e+01,\n",
       "        1.50696971e+01, 1.88368634e+01, 2.26040297e+01, 2.63711960e+01,\n",
       "        3.01383623e+01, 3.39055286e+01, 3.76726949e+01]),\n",
       " <a list of 10 Patch objects>)"
      ]
     },
     "execution_count": 49,
     "metadata": {},
     "output_type": "execute_result"
    },
    {
     "data": {
      "image/png": "[encoded data removed]",
      "text/plain": [
       "<Figure size 432x288 with 1 Axes>"
      ]
     },
     "metadata": {
      "needs_background": "light"
     },
     "output_type": "display_data"
    }
   ],
   "source": [
    "plt.hist(res_error)"
   ]
  },
  {
   "cell_type": "code",
   "execution_count": null,
   "metadata": {},
   "outputs": [],
   "source": []
  }
 ],
 "metadata": {
  "celltoolbar": "Edit Metadata",
  "kernelspec": {
   "display_name": "Python 3",
   "language": "python",
   "name": "python3"
  },
  "language_info": {
   "codemirror_mode": {
    "name": "ipython",
    "version": 3
   },
   "file_extension": ".py",
   "mimetype": "text/x-python",
   "name": "python",
   "nbconvert_exporter": "python",
   "pygments_lexer": "ipython3",
   "version": "3.5.6"
  }
 },
 "nbformat": 4,
 "nbformat_minor": 1
}
