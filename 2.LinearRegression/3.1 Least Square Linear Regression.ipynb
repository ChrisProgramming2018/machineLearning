{
 "cells": [
  {
   "cell_type": "markdown",
   "metadata": {},
   "source": [
    "## Least-Square Linear Regression\n",
    "\n",
    "You have heard about (linear) classification methods and least-squares linear regression in the lecture. \n",
    "\n",
    "__Task:__ Describe the difference between regression and classification in one sentence. \n",
    "\n",
    "In the next part, we want to implement a least-squares linear regression. This means that given a set of points $\\{\\mathbf{x_i},y_i\\}$, $i = 1..N$, we want to find that line (or hyperplane in higher dimensions) which minimizes the least-square error. The least-squares error measures the quadratic distance from the predicted points by the linear model to the actual values.\n",
    "\n",
    "The general formula of the least-squares regression is $\\mathbf{y} = \\mathbf X \\boldsymbol w+ \\mathbf{\\epsilon}$ where $\\epsilon$ is a vector with dimensionality $\\mathbb{R}^N$ containing the normally-distributed noise terms $N(0,\\sigma^2)$, $\\mathbf{y}$ is the vector of labels and $\\mathbf{X}$ is the matrix of data points with dimensionality $\\mathbb{R}^{NxD}$. We are interested in estimating the coefficients $\\hat{\\boldsymbol w}$ of the true coefficients $\\boldsymbol w$. You saw in the lecture that the estimates are given by:\n",
    "\n",
    "\\begin{equation}\n",
    "\\hat{\\boldsymbol w} = (\\mathbf{X}^{\\rm T}\\mathbf{X})^{-1} \\mathbf{X}^{\\rm T}\\mathbf{y}\n",
    "\\end{equation}\n",
    "\n",
    "where $\\mathbf{X}$ is the matrix of regressor data (the first column is all 1’s for the intercept), and $\\mathbf{y}$ is the vector of the dependent variable data. \n",
    "\n",
    "__Tasks:__ \n",
    "1.  Look at how the following data is generated. What are the real parameters of w?\n",
    "2.  We want to implement a least-square linear regression now. Follow the following steps:\n",
    "    1. ) Bring the data in the correct shape as requested by the formula above.    \n",
    "    2. ) Calculate the estimates of the coefficients w.\n",
    "    3. ) Add the resulting line to the given scatter plot of the data.\n",
    "    4. ) Compute the mean squared-error of the residuals, i.e. $ \\frac{1}{N}\\sum_{i=1}^N \\|y(x_i) - y_i \\|^2$.\n",
    "    5. ) Compare your results to the numpy built-in function np.linalg.lstsq(...)\n",
    "3. Plot the residuals (e.g. using seaborn function residplot (you will need to install statsmodel with '_sudo pip3 install statsmodels_' ) and check the conditions of the linear regression."
   ]
  },
  {
   "cell_type": "code",
   "execution_count": 7,
   "metadata": {
    "scrolled": true
   },
   "outputs": [
    {
     "data": {
      "image/png": "[encoded data removed]",
      "text/plain": [
       "<Figure size 432x288 with 1 Axes>"
      ]
     },
     "metadata": {
      "needs_background": "light"
     },
     "output_type": "display_data"
    }
   ],
   "source": [
    "%matplotlib inline\n",
    "import numpy as np\n",
    "import matplotlib.pyplot as plt\n",
    "import seaborn as sns\n",
    "## Generate data\n",
    "N_samples = 100\n",
    "white_noise_stddev = 2\n",
    "X = np.random.randn(N_samples,1)\n",
    "eps = np.random.randn(N_samples,1)*white_noise_stddev\n",
    "w = [1.3]\n",
    "y = 0.5+w*X+eps\n",
    "\n",
    "## Make Plot of the data\n",
    "plt.scatter(X, y);\n",
    "plt.grid()"
   ]
  },
  {
   "cell_type": "code",
   "execution_count": 8,
   "metadata": {},
   "outputs": [
    {
     "data": {
      "text/plain": [
       "((100, 1), array([[ 0.808473  ],\n",
       "        [ 0.57684411],\n",
       "        [-0.19478179],\n",
       "        [-0.73769397]]))"
      ]
     },
     "execution_count": 8,
     "metadata": {},
     "output_type": "execute_result"
    }
   ],
   "source": [
    "X.shape, X[:4]"
   ]
  },
  {
   "cell_type": "code",
   "execution_count": 19,
   "metadata": {},
   "outputs": [],
   "source": [
    " ## B) Use the equation from above (X'X)^(-1)X'Y to calculate the estimate of the least-square coefficient:\n",
    "# Hints:np.dot() computes the matrix-matrix product\n",
    "#       np.linalg.inv() computes the matrix inverse\n",
    "#       X.T is the transpose of X"
   ]
  },
  {
   "cell_type": "code",
   "execution_count": 9,
   "metadata": {},
   "outputs": [
    {
     "name": "stdout",
     "output_type": "stream",
     "text": [
      "(100, 2)\n",
      "(100, 1)\n"
     ]
    }
   ],
   "source": [
    "## 2. A) Bring the data in the correct shape\n",
    "nrow = len(X)\n",
    "X_stacked= np.column_stack((np.ones(nrow),X))\n",
    " \n",
    "## Verify that the X and Y arrays have the same number of rows so that the matrix multiplication works\n",
    "print(X_stacked.shape)\n",
    "print(y.shape)"
   ]
  },
  {
   "cell_type": "code",
   "execution_count": 10,
   "metadata": {},
   "outputs": [
    {
     "data": {
      "text/plain": [
       "array([[ 1.        ,  0.808473  ],\n",
       "       [ 1.        ,  0.57684411],\n",
       "       [ 1.        , -0.19478179],\n",
       "       [ 1.        , -0.73769397]])"
      ]
     },
     "execution_count": 10,
     "metadata": {},
     "output_type": "execute_result"
    }
   ],
   "source": [
    "X_stacked[:4]"
   ]
  },
  {
   "cell_type": "code",
   "execution_count": 11,
   "metadata": {},
   "outputs": [
    {
     "data": {
      "text/plain": [
       "array([[ 1.00000936e-02, -3.27301293e-05],\n",
       "       [-3.27301293e-05,  1.14429636e-02]])"
      ]
     },
     "execution_count": 11,
     "metadata": {},
     "output_type": "execute_result"
    }
   ],
   "source": [
    "np.linalg.inv(np.dot(X_stacked.T,X_stacked))"
   ]
  },
  {
   "cell_type": "code",
   "execution_count": 12,
   "metadata": {},
   "outputs": [
    {
     "data": {
      "text/plain": [
       "array([[ 73.97167861],\n",
       "       [105.38642233]])"
      ]
     },
     "execution_count": 12,
     "metadata": {},
     "output_type": "execute_result"
    }
   ],
   "source": [
    "np.dot(X_stacked.T, y)"
   ]
  },
  {
   "cell_type": "code",
   "execution_count": 13,
   "metadata": {},
   "outputs": [],
   "source": [
    "part1 = np.linalg.inv(np.dot(X_stacked.T,X_stacked))\n",
    "part2 = np.dot(X_stacked.T, y)"
   ]
  },
  {
   "cell_type": "code",
   "execution_count": 14,
   "metadata": {},
   "outputs": [
    {
     "data": {
      "text/plain": [
       "array([[0.7362744 ],\n",
       "       [1.20351189]])"
      ]
     },
     "execution_count": 14,
     "metadata": {},
     "output_type": "execute_result"
    }
   ],
   "source": [
    "w_hat = np.dot(part1, part2)\n",
    "w_hat"
   ]
  },
  {
   "cell_type": "code",
   "execution_count": 15,
   "metadata": {},
   "outputs": [
    {
     "name": "stdout",
     "output_type": "stream",
     "text": [
      "The estimator intercept is 0.74 and the estimated slope is 1.20.\n"
     ]
    },
    {
     "data": {
      "image/png": "[encoded data removed]",
      "text/plain": [
       "<Figure size 432x288 with 1 Axes>"
      ]
     },
     "metadata": {
      "needs_background": "light"
     },
     "output_type": "display_data"
    }
   ],
   "source": [
    "print(\"The estimator intercept is %.2f and the estimated slope is %.2f.\" % (w_hat[0],w_hat[1]))\n",
    "\n",
    "## C) Plot the resulting line\n",
    "plt.figure()\n",
    "plt.plot([-5,5],np.dot([[1, -5], [1, 5]],w_hat),c='red',label='Linear Regression Fitted');\n",
    "plt.plot([-5,5],np.dot([[1, -5], [1, 5]],[0.5,1.3]),c='orange',label='True Line');\n",
    "plt.legend()\n",
    "plt.scatter(X, y);\n",
    "plt.grid()"
   ]
  },
  {
   "cell_type": "code",
   "execution_count": 16,
   "metadata": {},
   "outputs": [
    {
     "data": {
      "text/plain": [
       "(100, 1)"
      ]
     },
     "execution_count": 16,
     "metadata": {},
     "output_type": "execute_result"
    }
   ],
   "source": [
    "## D) Compute the mean square-error (residual)\n",
    "# (y - y_hat)**2\n",
    "y_hat = np.dot(X_stacked,w_hat)\n",
    "msr = np.square(y-y_hat)\n",
    "msr.shape  # error for each data point "
   ]
  },
  {
   "cell_type": "code",
   "execution_count": 17,
   "metadata": {},
   "outputs": [
    {
     "name": "stdout",
     "output_type": "stream",
     "text": [
      "MSE is: 3.15\n"
     ]
    }
   ],
   "source": [
    "print(\"MSE is: %.2f\" % ((sum(msr)[0])/nrow))"
   ]
  },
  {
   "cell_type": "code",
   "execution_count": 18,
   "metadata": {},
   "outputs": [
    {
     "name": "stdout",
     "output_type": "stream",
     "text": [
      "MSE from built-in function is: 3.15 \n"
     ]
    },
    {
     "name": "stderr",
     "output_type": "stream",
     "text": [
      "/home/architect/anaconda3/lib/python3.5/site-packages/ipykernel_launcher.py:2: FutureWarning: `rcond` parameter will change to the default of machine precision times ``max(M, N)`` where M and N are the input matrix dimensions.\n",
      "To use the future default and silence this warning we advise to pass `rcond=None`, to keep using the old, explicitly pass `rcond=-1`.\n",
      "  \n"
     ]
    }
   ],
   "source": [
    "## E) Compare to built-in function\n",
    "beta_builtin,residual,_,_ = np.linalg.lstsq(X_stacked, y)\n",
    "print(\"MSE from built-in function is: %.2f \" % (residual[0]/nrow))"
   ]
  },
  {
   "cell_type": "code",
   "execution_count": 24,
   "metadata": {},
   "outputs": [
    {
     "name": "stdout",
     "output_type": "stream",
     "text": [
      "Collecting statsmodels\n",
      "\u001b[?25l  Downloading https://files.pythonhosted.org/packages/85/26/f2f515443528e0939945b877e0f27f7c6faf2be4da45e2aaf172da82d2d3/statsmodels-0.11.1-cp35-cp35m-manylinux1_x86_64.whl (8.6MB)\n",
      "\u001b[K    100% |████████████████████████████████| 8.6MB 2.6MB/s ta 0:00:01\n",
      "\u001b[?25hRequirement already satisfied: numpy>=1.14 in /home/architect/anaconda3/lib/python3.5/site-packages (from statsmodels) (1.17.4)\n",
      "Requirement already satisfied: pandas>=0.21 in /home/architect/anaconda3/lib/python3.5/site-packages (from statsmodels) (0.25.3)\n",
      "Collecting patsy>=0.5 (from statsmodels)\n",
      "\u001b[?25l  Downloading https://files.pythonhosted.org/packages/ea/0c/5f61f1a3d4385d6bf83b83ea495068857ff8dfb89e74824c6e9eb63286d8/patsy-0.5.1-py2.py3-none-any.whl (231kB)\n",
      "\u001b[K    100% |████████████████████████████████| 235kB 3.4MB/s ta 0:00:01\n",
      "\u001b[?25hRequirement already satisfied: scipy>=1.0 in /home/architect/.local/lib/python3.5/site-packages (from statsmodels) (1.2.0)\n",
      "Requirement already satisfied: python-dateutil>=2.6.1 in /home/architect/anaconda3/lib/python3.5/site-packages (from pandas>=0.21->statsmodels) (2.7.3)\n",
      "Requirement already satisfied: pytz>=2017.2 in /home/architect/anaconda3/lib/python3.5/site-packages (from pandas>=0.21->statsmodels) (2019.1)\n",
      "Requirement already satisfied: six in /home/architect/anaconda3/lib/python3.5/site-packages (from patsy>=0.5->statsmodels) (1.11.0)\n",
      "Installing collected packages: patsy, statsmodels\n",
      "Successfully installed patsy-0.5.1 statsmodels-0.11.1\n",
      "\u001b[33mYou are using pip version 10.0.1, however version 20.2b1 is available.\n",
      "You should consider upgrading via the 'pip install --upgrade pip' command.\u001b[0m\n"
     ]
    }
   ],
   "source": [
    "!pip install statsmodels "
   ]
  },
  {
   "cell_type": "code",
   "execution_count": 25,
   "metadata": {},
   "outputs": [],
   "source": [
    "import seaborn as sns"
   ]
  },
  {
   "cell_type": "code",
   "execution_count": 28,
   "metadata": {},
   "outputs": [
    {
     "data": {
      "image/png": "[encoded data removed]",
      "text/plain": [
       "<Figure size 432x288 with 1 Axes>"
      ]
     },
     "metadata": {
      "needs_background": "light"
     },
     "output_type": "display_data"
    }
   ],
   "source": [
    "## 3) Plot the residuals\n",
    "plt.figure()\n",
    "sns.residplot(np.squeeze(X), np.squeeze(y), lowess=True,  color=\"b\")\n",
    "plt.xlabel('X',fontsize = 14)\n",
    "plt.ylabel('Residual Value', fontsize = 14)\n",
    "plt.title('Residuals with locally smoothed fit', fontsize = 14)\n",
    "plt.show()"
   ]
  },
  {
   "cell_type": "markdown",
   "metadata": {},
   "source": [
    "## Mathematical concepts of linear regression\n",
    "\n",
    "We want to look more closely at the mathematical backgrounds of the least-square linear regression. One step before obtaining the final solution $\\hat{\\boldsymbol w} = (\\mathbf{X}^{\\rm T}\\mathbf{X})^{-1} \\mathbf{X}^{\\rm T}\\mathbf{y}$, one has the so-called normal equations: \\begin{equation}\n",
    "(\\mathbf{X}^{\\rm T}\\mathbf{X}) \\hat{\\boldsymbol w} = \\mathbf{X}^{\\rm T}\\mathbf{y}\n",
    "\\end{equation}\n",
    "\n",
    "### Q3.1.1 Which condition on X has to be satisfied such that $(\\mathbf{X}^{\\rm T}\\mathbf{X})$ can be inverted?\n",
    "\n",
    "### Q3.1.2 Name scenarios in which this condition is violated.\n",
    "\n",
    "\n",
    "In case, $(\\mathbf{X}^{\\rm T}\\mathbf{X})$ is not invertible, one applies a so-called Moore-Penrose pseudoinverse. This is a generalization of the common matrix inversion to singular or non-quadratic matrices.\n",
    "\n",
    "__Task__: Read about the pseudoinverse and list three properties of the pseudoinverse."
   ]
  },
  {
   "cell_type": "code",
   "execution_count": null,
   "metadata": {},
   "outputs": [],
   "source": [
    "Q3.1.1 "
   ]
  },
  {
   "cell_type": "markdown",
   "metadata": {},
   "source": [
    "## The role of outliers in least-square linear regression \n",
    "\n",
    "Sometimes the data is not as clean as in the above case. In the following data set, we added one additional point [45,12] to the previous data set. We want to investigate how this point influences the estimates of $\\mathbf w$ and find a strategy to avoid any occurring problems.\n",
    "\n",
    "__Tasks:__\n",
    "1. Apply a least square linear estimator to the new data set and visualize the results\n",
    "2. Compare the estimator for w with the one from before.\n",
    "3. Plot the residuals, i.e. the difference between the predicted variable $y(x_i)$ and real variable $y_i$.\n",
    "4. In the lecture you have heard several conditions on the residual which should be satisfied for the linear regression. Check them in this case! \n",
    "\n",
    "__Hint__: You should re-run the simulation a few times to answer question number 4)."
   ]
  },
  {
   "cell_type": "code",
   "execution_count": 3,
   "metadata": {
    "scrolled": false
   },
   "outputs": [],
   "source": [
    "## Data Generation as before plus one outlier [45,12]\n",
    "n = 100\n",
    "white_noise_sd = 2\n",
    "X = np.random.randn(n,1)\n",
    "eps = np.random.randn(n,1)*white_noise_sd\n",
    "w = [1.3]\n",
    "y = 0.5+w*X+eps\n",
    "X = np.append(X,45)\n",
    "y = np.append(y,12)\n",
    "\n",
    "# 1) Apply a least square linear estimator to the new data set\n",
    "\n",
    "# 2) Compare estimator for w and visualize the results\n",
    "\n",
    "# 3) Plot the residuals\n",
    "# You can use the seaborn plot residplot (statsmodels package is necessary. Get it via: \"\"sudo pip3 install statsmodels\"\")"
   ]
  },
  {
   "cell_type": "markdown",
   "metadata": {},
   "source": [
    "### Q3.1.3 What do you conclude from this example regarding the estimated weight vector and residuals? \n",
    "\n",
    "### Q3.1.4 Think of possible strategies to avoid this problem."
   ]
  }
 ],
 "metadata": {
  "celltoolbar": "Edit Metadata",
  "kernelspec": {
   "display_name": "Python 3",
   "language": "python",
   "name": "python3"
  },
  "language_info": {
   "codemirror_mode": {
    "name": "ipython",
    "version": 3
   },
   "file_extension": ".py",
   "mimetype": "text/x-python",
   "name": "python",
   "nbconvert_exporter": "python",
   "pygments_lexer": "ipython3",
   "version": "3.5.6"
  }
 },
 "nbformat": 4,
 "nbformat_minor": 1
}
